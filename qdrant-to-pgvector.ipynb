{
 "cells": [
  {
   "cell_type": "markdown",
   "metadata": {},
   "source": [
    "<p align=\"center\">\n",
    "  <img height=\"100\" src=\"https://raw.githubusercontent.com/arguflow/blog/5ef439020707b0e27bf901c8f6b4fb1f487a78d4/apps/frontend/public/assets/horizontal-logo.svg\" alt=\"Arguflow\">\n",
    "</p>\n",
    "\n",
    "<p align=\"center\">\n",
    "    <b>Offering a product suite for putting arbitrary models into production semantic search and retrieval-augmented LLM-chat experiences on your company's data</b>\n",
    "</p>\n",
    "\n",
    "<p align=\"center\">\n",
    "<strong><a href=\"https://docs.arguflow.ai\">Documentation</a> • <a href=\"https://search.arguflow.ai\">Competitive Debate Search Demo</a> • <a href=\"https://chat.arguflow.ai\">Competitive Debate Chat Demo</a> • <a href=\"https://discord.gg/CuJVfgZf54\">Discord</a>\n",
    "\n",
    "</strong>\n",
    "</p>\n"
   ]
  },
  {
   "cell_type": "markdown",
   "metadata": {},
   "source": [
    "# Exploring replacing our SVD (qdrant) with Pgvector\n",
    "\n",
    "The objective behind this notebook was to assess the feasibility of substituting our system's SVD, [Qdrant](https://qdrant.tech/), with [PGVector](https://github.com/pgvector/pgvector). Employing PGVector would offer the advantage of utilizing a transactional database with schema and transaction support, thereby eliminating the need for external database joins during diverse search operations.\n",
    "\n",
    "## Findings\n",
    "\n",
    "The key takeaway here is that we are strategically developing our systems to facilitate seamless replacement of the underlying vector store. Anticipating the uncertain trajectory of vector store solutions, we're exercising caution and refraining from fully committing to any particular data store solution at this point.\n",
    "\n",
    "For now, we will stick to [Qdrant](https://qdrant.tech/) for our competitive debate demos as [Clickhouse](https://clickhouse.com/)'s [annoy index](https://clickhouse.com/docs/en/engines/table-engines/mergetree-family/annindexes) is too imprecise to be viable.\n",
    "\n",
    "However, it is important to note that Clickhouse wins out on pure speed and can be the right choice for datasets characterized by substantial sparsity or considerable size. We may use Clickhouse for future customer deployments when it makes sense to do so.\n",
    "\n",
    "### Replicating our results\n",
    "\n",
    "1. Download the dataset via [this link](https://drive.proton.me/urls/FED1ABWG70#ItjHZqiPpUao). This is roughly the [DebateSum dataset](https://aclanthology.org/2020.argmining-1.1/), but with some improved parsing loggic and dedup detection as noted on [our docs](https://docs.arguflow.ai).\n",
    "2. Place the dataset into the same directory as this notebook\n",
    "3. `docker compose up -d`\n",
    "4. `cat .env.dist > .env`\n",
    "4. Run all to duplicate our findings"
   ]
  },
  {
   "cell_type": "code",
   "execution_count": 1,
   "metadata": {},
   "outputs": [
    {
     "name": "stderr",
     "output_type": "stream",
     "text": [
      "/home/skeptrune/git_projects/arguflow/lantern-vs-qdrant-comparison/.venv/lib/python3.10/site-packages/qdrant_client/qdrant_remote.py:115: UserWarning: Api key is used with unsecure connection.\n",
      "  warnings.warn(\"Api key is used with unsecure connection.\")\n"
     ]
    }
   ],
   "source": [
    "import os\n",
    "from dotenv import load_dotenv\n",
    "from qdrant_client import QdrantClient\n",
    "from qdrant_client.http import models\n",
    "\n",
    "# Load values from the .env file\n",
    "load_dotenv()\n",
    "\n",
    "# Get values from the environment variables\n",
    "qdrant_url = os.getenv(\"QDRANT_URL\")\n",
    "qdrant_api_key = os.getenv(\"QDRANT_API_KEY\")\n",
    "\n",
    "# Create the QdrantClient instance\n",
    "qdrant_client = QdrantClient(\n",
    "    url=qdrant_url,\n",
    "    api_key=qdrant_api_key,\n",
    ")\n",
    "\n",
    "# qdrant_client.recreate_collection(\n",
    "#     collection_name=\"debate_cards\",\n",
    "#     vectors_config=models.VectorParams(size=1536, distance=models.Distance.COSINE),\n",
    "# )"
   ]
  },
  {
   "cell_type": "code",
   "execution_count": 17,
   "metadata": {},
   "outputs": [],
   "source": [
    "import pickle\n",
    "\n",
    "# Load the dataset from the pickle file\n",
    "pickle_filename = \"dataset.pickle\"\n",
    "with open(pickle_filename, \"rb\") as pickle_file:\n",
    "    loaded_dataset = pickle.load(pickle_file)\n"
   ]
  },
  {
   "cell_type": "code",
   "execution_count": 2,
   "metadata": {},
   "outputs": [
    {
     "name": "stdout",
     "output_type": "stream",
     "text": [
      "Collection is not empty, exiting\n"
     ]
    },
    {
     "data": {
      "text/plain": [
       "CountResult(count=255070)"
      ]
     },
     "execution_count": 2,
     "metadata": {},
     "output_type": "execute_result"
    }
   ],
   "source": [
    "qdrant_count = qdrant_client.count(\n",
    "    collection_name=\"debate_cards\",\n",
    "    exact=True,\n",
    ")\n",
    "\n",
    "if qdrant_count.count > 0:\n",
    "    print(\"Collection is not empty, exiting\")\n",
    "else:\n",
    "    # add to qdrant 1k at a time\n",
    "    for i in range(0, len(loaded_dataset), 1000):\n",
    "        qdrant_client.upsert(\n",
    "            collection_name=\"debate_cards\",\n",
    "            points=models.Batch(\n",
    "                ids=[item[0] for item in loaded_dataset[i:i+1000]],\n",
    "                vectors=[item[1] for item in loaded_dataset[i:i+1000]]\n",
    "            ),\n",
    "        )\n",
    "\n",
    "qdrant_client.count(\n",
    "    collection_name=\"debate_cards\",\n",
    "    exact=True,\n",
    ")"
   ]
  },
  {
   "cell_type": "code",
   "execution_count": 66,
   "metadata": {},
   "outputs": [
    {
     "name": "stdout",
     "output_type": "stream",
     "text": [
      "PostgreSQL Server Version: PostgreSQL 15.4 (Debian 15.4-1.pgdg120+1) on x86_64-pc-linux-gnu, compiled by gcc (Debian 12.2.0-14) 12.2.0, 64-bit\n"
     ]
    }
   ],
   "source": [
    "import psycopg2\n",
    "\n",
    "db_url = os.getenv(\"POSTGRES_URL\")\n",
    "\n",
    "connection = psycopg2.connect(db_url)\n",
    "cursor = connection.cursor()\n",
    "cursor.execute(\"SELECT version()\")\n",
    "server_version = cursor.fetchone()[0]\n",
    "\n",
    "print(f\"PostgreSQL Server Version: {server_version}\")"
   ]
  },
  {
   "cell_type": "code",
   "execution_count": 67,
   "metadata": {},
   "outputs": [],
   "source": [
    "cursor.execute(\"CREATE EXTENSION lantern;\")\n",
    "connection.commit()\n",
    "\n",
    "cursor.execute(\"set enable_seqscan = false;\")\n",
    "connection.commit()"
   ]
  },
  {
   "cell_type": "code",
   "execution_count": 4,
   "metadata": {},
   "outputs": [],
   "source": [
    "delete_table_query = \"\"\"\n",
    "DROP TABLE IF EXISTS qdrant_vectors;\n",
    "\"\"\"\n",
    "cursor.execute(delete_table_query)\n",
    "\n",
    "create_table_query = \"\"\"\n",
    "CREATE TABLE IF NOT EXISTS qdrant_vectors\n",
    "(\n",
    "    point_id TEXT PRIMARY KEY,\n",
    "    embedding real[1536]\n",
    ");\n",
    "\"\"\"\n",
    "cursor.execute(create_table_query)\n",
    "\n",
    "add_hnsw_index_query = \"\"\"\n",
    "CREATE INDEX on qdrant_vectors USING hnsw (embedding dist_cos_ops) WITH (m=16, ef_construction=64, dim=1536);\n",
    "\"\"\"\n",
    "cursor.execute(add_hnsw_index_query)\n",
    "\n",
    "connection.commit()\n",
    "\n",
    "offset = \"\"\n",
    "\n",
    "while offset is not None:\n",
    "    scroll_result = qdrant_client.scroll(\n",
    "        collection_name=\"debate_cards\",\n",
    "        limit=1,\n",
    "        with_vectors=True,\n",
    "        offset=(offset if offset else None),\n",
    "    )\n",
    "\n",
    "    offset = scroll_result[1]\n",
    "\n",
    "    if scroll_result[0]:  # Check if there are points to insert\n",
    "        insert_found_points_query = \"\"\"\n",
    "            INSERT INTO qdrant_vectors (point_id, embedding)\n",
    "            VALUES\n",
    "        \"\"\"\n",
    "\n",
    "        values = []\n",
    "        for point in scroll_result[0]:\n",
    "            values.append((point.id, point.vector))\n",
    "\n",
    "        placeholders = \",\".join([\"(%s, %s)\"] * len(values))\n",
    "        insert_found_points_query += placeholders\n",
    "\n",
    "        cursor.execute(insert_found_points_query, [item for sublist in values for item in sublist])\n",
    "        connection.commit()\n",
    "    \n",
    "    "
   ]
  },
  {
   "cell_type": "code",
   "execution_count": 5,
   "metadata": {},
   "outputs": [
    {
     "name": "stdout",
     "output_type": "stream",
     "text": [
      "Base count: 255070\n"
     ]
    }
   ],
   "source": [
    "import time\n",
    "\n",
    "\n",
    "base_count = 0\n",
    "while base_count != 255070:\n",
    "    get_qdrant_point_ids_count_query = \"\"\"\n",
    "    SELECT COUNT(*)\n",
    "    FROM qdrant_vectors;\n",
    "    \"\"\"\n",
    "    cursor.execute(get_qdrant_point_ids_count_query)\n",
    "    base_count = cursor.fetchone()[0]\n",
    "    print(f\"Base count: {base_count}\")\n",
    "    connection.commit()\n",
    "\n",
    "    time.sleep(1)"
   ]
  },
  {
   "cell_type": "code",
   "execution_count": 6,
   "metadata": {},
   "outputs": [],
   "source": [
    "scroll_result = qdrant_client.scroll(\n",
    "    collection_name=\"debate_cards\",\n",
    "    limit=100,\n",
    "    with_vectors=True,\n",
    ")\n",
    "\n",
    "first_100_qdrant_vectors = [point.vector for point in scroll_result[0]]"
   ]
  },
  {
   "cell_type": "code",
   "execution_count": 71,
   "metadata": {},
   "outputs": [
    {
     "ename": "InternalError_",
     "evalue": "Operator <-> has no standalone meaning and is reserved for use in vector index lookups only\n",
     "output_type": "error",
     "traceback": [
      "\u001b[0;31m---------------------------------------------------------------------------\u001b[0m",
      "\u001b[0;31mInternalError_\u001b[0m                            Traceback (most recent call last)",
      "\u001b[1;32m/home/skeptrune/git_projects/arguflow/lantern-vs-qdrant-comparison/qdrant-to-pgvector.ipynb Cell 11\u001b[0m line \u001b[0;36m1\n\u001b[1;32m      <a href='vscode-notebook-cell:/home/skeptrune/git_projects/arguflow/lantern-vs-qdrant-comparison/qdrant-to-pgvector.ipynb#X12sZmlsZQ%3D%3D?line=3'>4</a>\u001b[0m pg_cosine_similarity_query \u001b[39m=\u001b[39m \u001b[39mf\u001b[39m\u001b[39m\"\"\"\u001b[39m\n\u001b[1;32m      <a href='vscode-notebook-cell:/home/skeptrune/git_projects/arguflow/lantern-vs-qdrant-comparison/qdrant-to-pgvector.ipynb#X12sZmlsZQ%3D%3D?line=4'>5</a>\u001b[0m \u001b[39m    SELECT\u001b[39m\n\u001b[1;32m      <a href='vscode-notebook-cell:/home/skeptrune/git_projects/arguflow/lantern-vs-qdrant-comparison/qdrant-to-pgvector.ipynb#X12sZmlsZQ%3D%3D?line=5'>6</a>\u001b[0m \u001b[39m        point_id,\u001b[39m\n\u001b[0;32m   (...)\u001b[0m\n\u001b[1;32m     <a href='vscode-notebook-cell:/home/skeptrune/git_projects/arguflow/lantern-vs-qdrant-comparison/qdrant-to-pgvector.ipynb#X12sZmlsZQ%3D%3D?line=9'>10</a>\u001b[0m \u001b[39m    LIMIT 10;\u001b[39m\n\u001b[1;32m     <a href='vscode-notebook-cell:/home/skeptrune/git_projects/arguflow/lantern-vs-qdrant-comparison/qdrant-to-pgvector.ipynb#X12sZmlsZQ%3D%3D?line=10'>11</a>\u001b[0m \u001b[39m    \u001b[39m\u001b[39m\"\"\"\u001b[39m\n\u001b[1;32m     <a href='vscode-notebook-cell:/home/skeptrune/git_projects/arguflow/lantern-vs-qdrant-comparison/qdrant-to-pgvector.ipynb#X12sZmlsZQ%3D%3D?line=12'>13</a>\u001b[0m \u001b[39m# explain the query\u001b[39;00m\n\u001b[0;32m---> <a href='vscode-notebook-cell:/home/skeptrune/git_projects/arguflow/lantern-vs-qdrant-comparison/qdrant-to-pgvector.ipynb#X12sZmlsZQ%3D%3D?line=13'>14</a>\u001b[0m cursor\u001b[39m.\u001b[39;49mexecute(\u001b[39m\"\u001b[39;49m\u001b[39mEXPLAIN \u001b[39;49m\u001b[39m\"\u001b[39;49m \u001b[39m+\u001b[39;49m pg_cosine_similarity_query)\n\u001b[1;32m     <a href='vscode-notebook-cell:/home/skeptrune/git_projects/arguflow/lantern-vs-qdrant-comparison/qdrant-to-pgvector.ipynb#X12sZmlsZQ%3D%3D?line=14'>15</a>\u001b[0m pg_cosine_similarity_explain_result \u001b[39m=\u001b[39m cursor\u001b[39m.\u001b[39mfetchall()\n\u001b[1;32m     <a href='vscode-notebook-cell:/home/skeptrune/git_projects/arguflow/lantern-vs-qdrant-comparison/qdrant-to-pgvector.ipynb#X12sZmlsZQ%3D%3D?line=15'>16</a>\u001b[0m connection\u001b[39m.\u001b[39mcommit()\n",
      "\u001b[0;31mInternalError_\u001b[0m: Operator <-> has no standalone meaning and is reserved for use in vector index lookups only\n"
     ]
    }
   ],
   "source": [
    "first_vector = first_100_qdrant_vectors[0]\n",
    "pg_query_vector = str(first_vector).replace(\"[\", \"{\").replace(\"]\", \"}\")\n",
    "\n",
    "pg_cosine_similarity_query = f\"\"\"\n",
    "    SELECT\n",
    "        point_id,\n",
    "        1 - cos_dist(embedding, '{pg_query_vector}') AS cosine_similarity\n",
    "        FROM qdrant_vectors\n",
    "    ORDER BY embedding <-> '{pg_query_vector}' DESC\n",
    "    LIMIT 10;\n",
    "    \"\"\"\n",
    "\n",
    "# explain the query\n",
    "cursor.execute(\"EXPLAIN \" + pg_cosine_similarity_query)\n",
    "pg_cosine_similarity_explain_result = cursor.fetchall()\n",
    "connection.commit()\n",
    "# print(pg_cosine_similarity_explain_result)\n",
    "\n",
    "# cursor.execute(pg_cosine_similarity_query)\n",
    "# pg_results = pg_cosine_similarity_result = cursor.fetchall()\n",
    "# connection.commit()\n",
    "\n",
    "pg_cosine_similarity_explain_result"
   ]
  },
  {
   "cell_type": "code",
   "execution_count": 69,
   "metadata": {},
   "outputs": [],
   "source": [
    "import numpy as np\n",
    "import timeit\n",
    "\n",
    "qdrant_search_times = []\n",
    "pgvector_search_times = []\n",
    "\n",
    "\n",
    "for i in range(100):\n",
    "    query_vector = np.random.rand(1536).astype(np.float32).tolist()\n",
    "    pg_query_vector = str(query_vector).replace(\"[\", \"{\").replace(\"]\", \"}\")\n",
    "\n",
    "    pg_cosine_similarity_query = f\"\"\"\n",
    "        SELECT\n",
    "            point_id,\n",
    "            1 - cos_dist(embedding, '{pg_query_vector}') AS cosine_similarity\n",
    "        FROM qdrant_vectors\n",
    "        ORDER BY embedding <-> '{pg_query_vector}' DESC\n",
    "        LIMIT 10;\n",
    "        \"\"\"\n",
    "\n",
    "    def query_pg():\n",
    "        cursor.execute(pg_cosine_similarity_query)\n",
    "        cursor.fetchall()\n",
    "        connection.commit()\n",
    "\n",
    "    pgvector_search_times.append(timeit.timeit(lambda: query_pg(), number=1))\n",
    "\n",
    "    qdrant_search_times.append(timeit.timeit(lambda: qdrant_client.search(collection_name=\"debate_cards\", query_vector=query_vector, limit=10, search_params={\"exact\": True}), number=1))\n",
    "\n",
    "    "
   ]
  },
  {
   "cell_type": "code",
   "execution_count": 70,
   "metadata": {},
   "outputs": [
    {
     "data": {
      "image/png": "[encoded data removed]",
      "text/plain": [
       "<Figure size 640x480 with 1 Axes>"
      ]
     },
     "metadata": {},
     "output_type": "display_data"
    }
   ],
   "source": [
    "# plot the results\n",
    "\n",
    "import matplotlib.pyplot as plt\n",
    "\n",
    "plt.plot(pgvector_search_times, label=\"lantern/usearch HNSW index\")\n",
    "plt.plot(qdrant_search_times, label=\"Qdrant\")\n",
    "\n",
    "plt.xlabel(\"Search number\")\n",
    "plt.ylabel(\"Search time (s)\")\n",
    "plt.legend()\n",
    "plt.show()"
   ]
  },
  {
   "cell_type": "code",
   "execution_count": 58,
   "metadata": {},
   "outputs": [
    {
     "name": "stdout",
     "output_type": "stream",
     "text": [
      "Pgvector HNSW index avg search time: 0.8657084405299793s\n",
      "Pgvector HNSW index max search time: 1.2351494859995s\n",
      "Pgvector HNSW index min search time: 0.6718879700001708s\n",
      "Qdrant avg search time: 0.058735945970047394s\n",
      "Qdrant max search time: 0.11392129199975898s\n",
      "Qdrant min search time: 0.04236047500035056s\n"
     ]
    }
   ],
   "source": [
    "# Get avg, max, min search time for ClickHouse\n",
    "[pgvector_avg_search_time, pgvector_max_search_time, pgvector_min_search_time] = [np.mean(pgvector_search_times), np.max(pgvector_search_times), np.min(pgvector_search_times)]\n",
    "# Get avg, max, min search time for Qdrant\n",
    "[qdrant_avg_search_time, qdrant_max_search_time, qdrant_min_search_time] = [np.mean(qdrant_search_times), np.max(qdrant_search_times), np.min(qdrant_search_times)]\n",
    "\n",
    "# Display the results\n",
    "print(f\"Pgvector HNSW index avg search time: {pgvector_avg_search_time}s\")\n",
    "print(f\"Pgvector HNSW index max search time: {pgvector_max_search_time}s\")\n",
    "print(f\"Pgvector HNSW index min search time: {pgvector_min_search_time}s\")\n",
    "\n",
    "print(f\"Qdrant avg search time: {qdrant_avg_search_time}s\")\n",
    "print(f\"Qdrant max search time: {qdrant_max_search_time}s\")\n",
    "print(f\"Qdrant min search time: {qdrant_min_search_time}s\")"
   ]
  },
  {
   "cell_type": "code",
   "execution_count": 59,
   "metadata": {},
   "outputs": [],
   "source": [
    "pgvector_results = []\n",
    "qdrant_results = []\n",
    "\n",
    "for i in range(100):\n",
    "    query_vector = first_100_qdrant_vectors[i]\n",
    "    pg_query_vector = str(query_vector).replace(\"[\", \"{\").replace(\"]\", \"}\")\n",
    "\n",
    "    pgvector_hnsw_query = f\"\"\"\n",
    "        SELECT \n",
    "            point_id,\n",
    "            1 - cos_dist(embedding, '{pg_query_vector}') AS cosine_similarity\n",
    "        FROM qdrant_vectors\n",
    "        ORDER BY cosine_similarity DESC\n",
    "        LIMIT 10;\n",
    "        \"\"\"\n",
    "\n",
    "    cursor.execute(pgvector_hnsw_query)\n",
    "    pg_results = cursor.fetchall()\n",
    "    connection.commit()\n",
    "    pg_hnsw_index_ids = [result[0] for result in pg_results]\n",
    "    pgvector_results.append(pg_hnsw_index_ids)\n",
    "\n",
    "    qdrant_results_temp = qdrant_client.search(collection_name=\"debate_cards\", query_vector=query_vector, limit=10, with_vectors=False, search_params={\"exact\": True})\n",
    "    qdrant_ids = [result.id for result in qdrant_results_temp]\n",
    "    qdrant_results.append(qdrant_ids)\n",
    "\n",
    "    base_ids = []"
   ]
  },
  {
   "cell_type": "code",
   "execution_count": 60,
   "metadata": {},
   "outputs": [
    {
     "name": "stdout",
     "output_type": "stream",
     "text": [
      "Pgvector HNSW index avg shift: 0.0\n",
      "Pgvector HNSW index max shift: 0\n",
      "Pgvector HNSW index min shift: 0\n",
      "Pgvector HNSW index std shift: 0.0\n"
     ]
    }
   ],
   "source": [
    "pg_hnsw_result_shifts = []\n",
    "\n",
    "qdrant_result_idx = 0\n",
    "for top_10 in qdrant_results:\n",
    "    top_10_idx = 0\n",
    "    for item in top_10:\n",
    "        if item in pgvector_results[qdrant_result_idx]:\n",
    "            index_of_item = pgvector_results[qdrant_result_idx].index(item)\n",
    "            pg_hnsw_result_shifts.append(abs(index_of_item - top_10_idx))\n",
    "        else:\n",
    "            pg_hnsw_result_shifts.append(100)\n",
    "        top_10_idx += 1\n",
    "    qdrant_result_idx += 1\n",
    "\n",
    "print(f\"Pgvector HNSW index avg shift: {np.mean(pg_hnsw_result_shifts)}\")\n",
    "print(f\"Pgvector HNSW index max shift: {np.max(pg_hnsw_result_shifts)}\")\n",
    "print(f\"Pgvector HNSW index min shift: {np.min(pg_hnsw_result_shifts)}\")\n",
    "print(f\"Pgvector HNSW index std shift: {np.std(pg_hnsw_result_shifts)}\")"
   ]
  }
 ],
 "metadata": {
  "kernelspec": {
   "display_name": "Python 3 (ipykernel)",
   "language": "python",
   "name": "python3"
  },
  "language_info": {
   "codemirror_mode": {
    "name": "ipython",
    "version": 3
   },
   "file_extension": ".py",
   "mimetype": "text/x-python",
   "name": "python",
   "nbconvert_exporter": "python",
   "pygments_lexer": "ipython3",
   "version": "3.10.12"
  }
 },
 "nbformat": 4,
 "nbformat_minor": 4
}
